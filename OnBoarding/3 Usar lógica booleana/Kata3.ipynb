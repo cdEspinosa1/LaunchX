{
 "cells": [
  {
   "cell_type": "markdown",
   "metadata": {},
   "source": [
    "# Alerta de asteroide"
   ]
  },
  {
   "cell_type": "code",
   "execution_count": 1,
   "metadata": {},
   "outputs": [
    {
     "name": "stdout",
     "output_type": "stream",
     "text": [
      "Alerta de asteroide!!!\n"
     ]
    }
   ],
   "source": [
    "velAsteroide = 49\n",
    "\n",
    "if velAsteroide > 25:\n",
    "    print(\"Alerta de asteroide!!!\")\n",
    "else:\n",
    "    print(\"No hay asteriodes a la vista.\")"
   ]
  },
  {
   "cell_type": "code",
   "execution_count": 3,
   "metadata": {},
   "outputs": [
    {
     "name": "stdout",
     "output_type": "stream",
     "text": [
      "No hay rastro del rayo de luz.\n"
     ]
    }
   ],
   "source": [
    "velAsteroide = 19\n",
    "\n",
    "if velAsteroide < 20:\n",
    "    print(\"No hay rastro del rayo de luz.\")\n",
    "elif velAsteroide >= 20:\n",
    "    print(\"Busca un rayo de luz en el cielo!!\")\n",
    "else:\n",
    "    print(\"No hay de que preocuparse\")"
   ]
  },
  {
   "cell_type": "code",
   "execution_count": 7,
   "metadata": {},
   "outputs": [
    {
     "name": "stdout",
     "output_type": "stream",
     "text": [
      "Busca un rayo de luz en el cielo!!\n"
     ]
    }
   ],
   "source": [
    "velAsteroide = 50\n",
    "tamAsteroide = 15\n",
    "\n",
    "if velAsteroide > 25:\n",
    "    if tamAsteroide > 25 and tamAsteroide < 1000:\n",
    "        if velAsteroide < 20:\n",
    "            print(\"Impacto inminente, preparate para la extincion!!!\")\n",
    "        elif velAsteroide >= 20:\n",
    "            print(\"Busca un rayo de luz en el cielo...y preparate para la extincion!!!\")\n",
    "    elif tamAsteroide < 25:\n",
    "        if velAsteroide < 20:\n",
    "            print(\"No hay de que preocuparse.\")\n",
    "        elif velAsteroide >= 20:\n",
    "            print(\"Busca un rayo de luz en el cielo!!\")\n",
    "else:\n",
    "    print(\"No hay asteriodes a la vista.\")"
   ]
  }
 ],
 "metadata": {
  "interpreter": {
   "hash": "916dbcbb3f70747c44a77c7bcd40155683ae19c65e1c03b4aa3499c5328201f1"
  },
  "kernelspec": {
   "display_name": "Python 3.8.10 64-bit",
   "language": "python",
   "name": "python3"
  },
  "language_info": {
   "codemirror_mode": {
    "name": "ipython",
    "version": 3
   },
   "file_extension": ".py",
   "mimetype": "text/x-python",
   "name": "python",
   "nbconvert_exporter": "python",
   "pygments_lexer": "ipython3",
   "version": "3.8.10"
  },
  "orig_nbformat": 4
 },
 "nbformat": 4,
 "nbformat_minor": 2
}
