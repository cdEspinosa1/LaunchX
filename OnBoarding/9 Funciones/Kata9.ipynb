{
 "cells": [
  {
   "cell_type": "markdown",
   "metadata": {},
   "source": [
    "# Ejercicio 1"
   ]
  },
  {
   "cell_type": "code",
   "execution_count": 8,
   "metadata": {},
   "outputs": [],
   "source": [
    "def lecturas (tanque1, tanque2, tanque3):\n",
    "    lect_avg = (tanque1+tanque2+tanque3)/3\n",
    "    return f'''\n",
    "    Promedio de lecturas: {lect_avg}\n",
    "    Tanque 1: {tanque1}\n",
    "    Tanque 2: {tanque2}\n",
    "    Tanque 3: {tanque3}\n",
    "    '''"
   ]
  },
  {
   "cell_type": "code",
   "execution_count": 9,
   "metadata": {},
   "outputs": [
    {
     "name": "stdout",
     "output_type": "stream",
     "text": [
      "0.0\n"
     ]
    }
   ],
   "source": [
    "print(lecturas(0,0,0))"
   ]
  },
  {
   "cell_type": "code",
   "execution_count": 10,
   "metadata": {},
   "outputs": [],
   "source": [
    "def calcPromedio(valor1, valor2, valor3):\n",
    "    valor_prom = (valor1+valor2+valor3)/3\n",
    "    return valor_prom"
   ]
  },
  {
   "cell_type": "code",
   "execution_count": 23,
   "metadata": {},
   "outputs": [],
   "source": [
    "def lecturas (tanque1, tanque2, tanque3):\n",
    "    return f'''\n",
    "    Promedio de lecturas: {calcPromedio(tanque1, tanque2, tanque3)}\n",
    "    Tanque 1: {tanque1}\n",
    "    Tanque 2: {tanque2}\n",
    "    Tanque 3: {tanque3}\n",
    "    '''"
   ]
  },
  {
   "cell_type": "code",
   "execution_count": 24,
   "metadata": {},
   "outputs": [
    {
     "name": "stdout",
     "output_type": "stream",
     "text": [
      "\n",
      "    Promedio de lecturas: 33.666666666666664\n",
      "    Tanque 1: 10\n",
      "    Tanque 2: 50\n",
      "    Tanque 3: 41\n",
      "    \n"
     ]
    }
   ],
   "source": [
    "print(lecturas(10,50,41))"
   ]
  },
  {
   "cell_type": "markdown",
   "metadata": {},
   "source": [
    "# Ejercicio 2"
   ]
  },
  {
   "cell_type": "code",
   "execution_count": 16,
   "metadata": {},
   "outputs": [
    {
     "name": "stdout",
     "output_type": "stream",
     "text": [
      "\n",
      "    Tiempo de viaje: 60\n",
      "    Destino del viaje: Luna\n",
      "    Combustible en el tanque exterior: 80\n",
      "    Combustible en el tanque interior: 100\n",
      "    \n"
     ]
    }
   ],
   "source": [
    "def viajeInfo(pre, tiempo, destino, tanqueExt, tanqueInt):\n",
    "    return f'''\n",
    "    Tiempo de viaje: {pre + tiempo}\n",
    "    Destino del viaje: {destino}\n",
    "    Combustible en el tanque exterior: {tanqueExt}\n",
    "    Combustible en el tanque interior: {tanqueInt}\n",
    "    '''\n",
    "print(viajeInfo(10, 50, 'Luna', 80, 100))"
   ]
  },
  {
   "cell_type": "code",
   "execution_count": 18,
   "metadata": {},
   "outputs": [
    {
     "name": "stdout",
     "output_type": "stream",
     "text": [
      "\n",
      "    Tiempo de viaje: 240\n",
      "    Destino del viaje: Luna\n",
      "    Combustible en los tanques: 1300\n"
     ]
    }
   ],
   "source": [
    "def viajeInfo(destino, *tiempos, **combustible):\n",
    "    return f'''\n",
    "    Tiempo de viaje: {sum(tiempos)}\n",
    "    Destino del viaje: {destino}\n",
    "    Combustible en los tanques: {sum(combustible.values())}'''\n",
    "print(viajeInfo('Luna',10, 50, 80, 100, ext=500, int=800))"
   ]
  },
  {
   "cell_type": "code",
   "execution_count": 20,
   "metadata": {},
   "outputs": [
    {
     "name": "stdout",
     "output_type": "stream",
     "text": [
      "\n",
      "    Tiempo de viaje: 240\n",
      "    Destino del viaje: Luna\n",
      "    Combustible en los tanques: 1300\n",
      "    Tanque ext --> 500 litros\n",
      "Tanque int --> 800 litros\n",
      "\n"
     ]
    }
   ],
   "source": [
    "def viajeInfo(destino, *tiempos, **combustible):\n",
    "    reporte = f'''\n",
    "    Tiempo de viaje: {sum(tiempos)}\n",
    "    Destino del viaje: {destino}\n",
    "    Combustible en los tanques: {sum(combustible.values())}\n",
    "    '''\n",
    "\n",
    "    for tanque, litros in combustible.items():\n",
    "        reporte += f\"Tanque {tanque} --> {litros} litros\\n\"\n",
    "    return reporte\n",
    "\n",
    "print(viajeInfo('Luna',10, 50, 80, 100, ext=500, int=800))"
   ]
  }
 ],
 "metadata": {
  "interpreter": {
   "hash": "916dbcbb3f70747c44a77c7bcd40155683ae19c65e1c03b4aa3499c5328201f1"
  },
  "kernelspec": {
   "display_name": "Python 3.8.10 64-bit",
   "language": "python",
   "name": "python3"
  },
  "language_info": {
   "codemirror_mode": {
    "name": "ipython",
    "version": 3
   },
   "file_extension": ".py",
   "mimetype": "text/x-python",
   "name": "python",
   "nbconvert_exporter": "python",
   "pygments_lexer": "ipython3",
   "version": "3.8.10"
  },
  "orig_nbformat": 4
 },
 "nbformat": 4,
 "nbformat_minor": 2
}
