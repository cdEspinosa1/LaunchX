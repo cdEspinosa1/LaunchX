{
 "cells": [
  {
   "cell_type": "markdown",
   "metadata": {},
   "source": [
    "# Ejercicio 1"
   ]
  },
  {
   "cell_type": "code",
   "execution_count": 5,
   "metadata": {},
   "outputs": [],
   "source": [
    "distTierra = 149597870\n",
    "distJupiter = 778547200"
   ]
  },
  {
   "cell_type": "code",
   "execution_count": 7,
   "metadata": {},
   "outputs": [
    {
     "name": "stdout",
     "output_type": "stream",
     "text": [
      "628949330\n",
      "390577534\n"
     ]
    }
   ],
   "source": [
    "disPlanetasKm = abs(distTierra - distJupiter)\n",
    "distPlanetasMil = round(abs(disPlanetasKm * 0.621))\n",
    "print(disPlanetasKm)\n",
    "print(distPlanetasMil)"
   ]
  },
  {
   "cell_type": "markdown",
   "metadata": {},
   "source": [
    "# Ejercicio 2"
   ]
  },
  {
   "cell_type": "code",
   "execution_count": 10,
   "metadata": {},
   "outputs": [],
   "source": [
    "distPlaneta1 = input(\"Cual es la distancia al sol del primer planeta?\")\n",
    "distPlaneta2 = input(\"Cual es la distancia al sol del segundo planeta?\")"
   ]
  },
  {
   "cell_type": "code",
   "execution_count": 11,
   "metadata": {},
   "outputs": [],
   "source": [
    "distPlaneta1Num = int(distPlaneta1)\n",
    "distPlaneta2Num = int(distPlaneta2)"
   ]
  },
  {
   "cell_type": "code",
   "execution_count": 12,
   "metadata": {},
   "outputs": [
    {
     "name": "stdout",
     "output_type": "stream",
     "text": [
      "170000000\n",
      "44370000\n"
     ]
    }
   ],
   "source": [
    "distEntrePlanetasKm = abs(distPlaneta1Num - distPlaneta2Num)\n",
    "\n",
    "distEntrePlanetasMil = round(distEntrePlanetasKm * 0.261)\n",
    "\n",
    "print(distEntrePlanetasKm)\n",
    "print(distEntrePlanetasMil)\n"
   ]
  }
 ],
 "metadata": {
  "interpreter": {
   "hash": "916dbcbb3f70747c44a77c7bcd40155683ae19c65e1c03b4aa3499c5328201f1"
  },
  "kernelspec": {
   "display_name": "Python 3.8.10 64-bit",
   "language": "python",
   "name": "python3"
  },
  "language_info": {
   "codemirror_mode": {
    "name": "ipython",
    "version": 3
   },
   "file_extension": ".py",
   "mimetype": "text/x-python",
   "name": "python",
   "nbconvert_exporter": "python",
   "pygments_lexer": "ipython3",
   "version": "3.8.10"
  },
  "orig_nbformat": 4
 },
 "nbformat": 4,
 "nbformat_minor": 2
}
